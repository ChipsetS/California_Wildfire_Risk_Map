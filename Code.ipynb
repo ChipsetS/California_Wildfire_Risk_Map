{
  "cells": [
    {
      "cell_type": "code",
      "execution_count": null,
      "metadata": {
        "colab": {
          "base_uri": "https://localhost:8080/"
        },
        "id": "VTYvkVCvvdIH",
        "outputId": "90ec4e2b-8909-4fb2-b253-14159722402d"
      },
      "outputs": [],
      "source": [
        "!pip install geopandas\n",
        "!sudo apt install python3-rtree\n",
        "import pandas as pd\n",
        "import geopandas as gpd"
      ]
    },
    {
      "cell_type": "code",
      "execution_count": null,
      "metadata": {
        "id": "tfNMhaUOz4we"
      },
      "outputs": [],
      "source": [
        "import numpy as np\n",
        "from shapely.geometry import shape\n",
        "import matplotlib.pyplot as plt\n",
        "from geopandas.tools import geocode\n",
        "%matplotlib inline\n"
      ]
    },
    {
      "cell_type": "code",
      "execution_count": 130,
      "metadata": {
        "id": "uRen5HkIvCqg"
      },
      "outputs": [],
      "source": [
        "from bokeh.io import output_file, show,output_notebook\n",
        "from bokeh.models import ColumnDataSource,ColorBar,HoverTool\n",
        "from bokeh.transform import linear_cmap\n",
        "from bokeh.plotting import figure\n",
        "from bokeh.palettes import Spectral6\n",
        "from bokeh.palettes import Spectral11\n",
        "import folium\n",
        "import csv"
      ]
    },
    {
      "cell_type": "code",
      "execution_count": null,
      "metadata": {
        "id": "6zn7oRMgmQRw"
      },
      "outputs": [],
      "source": [
        "# Generate the calFireList from csv file\n",
        "calFireList = gpd.read_file(\"California_Fire_Incidents.csv\")\n",
        "output_notebook()"
      ]
    },
    {
      "cell_type": "code",
      "execution_count": null,
      "metadata": {
        "id": "2AubWr9B4u03"
      },
      "outputs": [],
      "source": [
        "# Generate the dataframe directly \n",
        "calFireGdf = gpd.GeoDataFrame(  \n",
        "    calFireList, geometry=gpd.points_from_xy(calFireList.Longitude, calFireList.Latitude)\n",
        "    )"
      ]
    },
    {
      "cell_type": "markdown",
      "metadata": {
        "id": "lZqp3O4aLtE0"
      },
      "source": [
        "Set and change the projection"
      ]
    },
    {
      "cell_type": "code",
      "execution_count": null,
      "metadata": {
        "id": "VCxbzs-k6_gY"
      },
      "outputs": [],
      "source": [
        "# Change the projection of dataset from WGS84 to projected coordinate system of Pseudo-Mercator\n",
        "calFireGdf.crs = {'init': 'epsg:4326'}  \n",
        "calFireGdf = calFireGdf.to_crs({'init': 'epsg:3857'})"
      ]
    },
    {
      "cell_type": "markdown",
      "metadata": {
        "id": "MB0KnVSwLwdg"
      },
      "source": [
        "Get the county bound map"
      ]
    },
    {
      "cell_type": "code",
      "execution_count": null,
      "metadata": {
        "id": "hTEjGOohwoxm"
      },
      "outputs": [],
      "source": [
        "calCounty = gpd.read_file(\"CA_Counties_TIGER2016.shp\")"
      ]
    },
    {
      "cell_type": "markdown",
      "metadata": {
        "id": "tIHQWXOVLhiC"
      },
      "source": [
        "Output the plot map of California Fire\n"
      ]
    },
    {
      "cell_type": "code",
      "execution_count": null,
      "metadata": {
        "colab": {
          "base_uri": "https://localhost:8080/",
          "height": 1000
        },
        "id": "9-PPmJdythRN",
        "outputId": "6fc71347-f19c-4013-a060-038bc73fe0bf"
      },
      "outputs": [],
      "source": [
        "# Set and print the base map\n",
        "contig = calCounty      \n",
        "fig, ax = plt.subplots(1, 1,figsize=(50,50))\n",
        "contig.plot(ax=ax)\n",
        "calFireGdf.plot(ax=ax,color=\"red\")\n",
        "ax.set_title(\"California Fires\");\n",
        "plt.savefig(\"California Fire location.png\")"
      ]
    },
    {
      "cell_type": "code",
      "execution_count": null,
      "metadata": {
        "id": "IWPf5_mlnasg"
      },
      "outputs": [],
      "source": [
        "#calFireJoin = gpd.sjoin(calFireGdf, calCounty) "
      ]
    },
    {
      "cell_type": "markdown",
      "metadata": {
        "id": "qfIIERtXL4s5"
      },
      "source": [
        "Count the fire incident in every county"
      ]
    },
    {
      "cell_type": "code",
      "execution_count": null,
      "metadata": {
        "id": "9c0eMQWGwLQP"
      },
      "outputs": [],
      "source": [
        "calFireCountyCt = calFireGdf.groupby(\"Counties\", as_index=False).count()[[\"Counties\", \"CalFireIncident\"]]  "
      ]
    },
    {
      "cell_type": "code",
      "execution_count": null,
      "metadata": {
        "id": "0KVxMgA-BUIW"
      },
      "outputs": [],
      "source": [
        "calCounty = calCounty.assign(Count = 0) #Add a new colunm with int type"
      ]
    },
    {
      "cell_type": "code",
      "execution_count": null,
      "metadata": {
        "id": "LtmRvseDySuj"
      },
      "outputs": [],
      "source": [
        "#Insert the count number of fire for counties back to county map\n",
        "#calFireCountyCt colunm range\n",
        "for i in range(58):\n",
        "  #calCounty colunm range         \n",
        "  for j in range(58):       \n",
        "    if calFireCountyCt['Counties'][i] == calCounty['NAME'][j]:\n",
        "      calCounty['Count'][j] = calFireCountyCt['CalFireIncident'][i]"
      ]
    },
    {
      "cell_type": "markdown",
      "metadata": {
        "id": "2etnV9jlDsHR"
      },
      "source": [
        "Turn to Bokeh and print by HTML"
      ]
    },
    {
      "cell_type": "code",
      "execution_count": null,
      "metadata": {
        "id": "lKR2UiJtDoZR"
      },
      "outputs": [],
      "source": [
        "def gpd_bokeh(df):\n",
        "    \"\"\"Convert geometries from geopandas to bokeh format\"\"\"\n",
        "    nan = float('nan')\n",
        "    lons = []\n",
        "    lats = []\n",
        "    for i,shape in enumerate(df.geometry.values):\n",
        "        if shape.geom_type == 'MultiPolygon':\n",
        "            gx = []\n",
        "            gy = []\n",
        "            ng = len(shape.geoms) - 1\n",
        "            for j,member in enumerate(shape.geoms):\n",
        "                xy = np.array(list(member.exterior.coords))\n",
        "                xs = xy[:,0].tolist()\n",
        "                ys = xy[:,1].tolist()\n",
        "                gx.extend(xs)\n",
        "                gy.extend(ys)\n",
        "                if j < ng:\n",
        "                    gx.append(nan)\n",
        "                    gy.append(nan)\n",
        "            lons.append(gx)\n",
        "            lats.append(gy)\n",
        "\n",
        "        else:     \n",
        "            xy = np.array(list(shape.exterior.coords))\n",
        "            xs = xy[:,0].tolist()\n",
        "            ys = xy[:,1].tolist()\n",
        "            lons.append(xs)\n",
        "            lats.append(ys) \n",
        "\n",
        "    return lons,lats"
      ]
    },
    {
      "cell_type": "code",
      "execution_count": null,
      "metadata": {
        "id": "7LbpKGwAHzkm"
      },
      "outputs": [],
      "source": [
        "calCounty.head()"
      ]
    },
    {
      "cell_type": "markdown",
      "metadata": {
        "id": "2e7jcfPzILMv"
      },
      "source": [
        "Colunm Data Source"
      ]
    },
    {
      "cell_type": "code",
      "execution_count": 90,
      "metadata": {
        "id": "tlkphKSOHXWS"
      },
      "outputs": [],
      "source": [
        "lons, lats = gpd_bokeh(calCounty)\n",
        "source = ColumnDataSource(data=dict(\n",
        "    \tx=lons, \n",
        "    \ty=lats,\n",
        "        county = calCounty['NAME'],\n",
        "        fireCounts = calCounty['Count']))"
      ]
    },
    {
      "cell_type": "markdown",
      "metadata": {
        "id": "Mhs_4zasIJAL"
      },
      "source": [
        "Set the Color Mapper"
      ]
    },
    {
      "cell_type": "code",
      "execution_count": 191,
      "metadata": {
        "id": "7sZjrwc5IHyN"
      },
      "outputs": [],
      "source": [
        "color_mapper = linear_cmap(field_name = 'fireCounts', palette = Spectral11 ,\n",
        "                           low = min(calCounty['Count']) ,\n",
        "                           high = max(calCounty['Count']))\n",
        "TOOLS = \"pan,wheel_zoom,reset,hover,save\""
      ]
    },
    {
      "cell_type": "code",
      "execution_count": 194,
      "metadata": {
        "id": "YrRXxgMpJG8c"
      },
      "outputs": [],
      "source": [
        "map = figure(plot_width=1000, plot_height=1000,title=\"California Fire Map\", tools=TOOLS,)\n",
        "map.patches('x', 'y', source=source, line_color=\"white\", line_width=0.1, color=color_mapper)\n",
        "\n",
        "map.select_one(HoverTool).tooltips = [\n",
        "    ('Fire Counts', '@fireCounts'),\n",
        "    ('County', '@county')\n",
        "]\n",
        "\n",
        "color_bar = ColorBar(color_mapper=color_mapper['transform'], width=16, location=(0,0))\n",
        "map.add_layout(color_bar, 'right')\n",
        "output_file(\"California Fire Map.html\")"
      ]
    },
    {
      "cell_type": "code",
      "execution_count": null,
      "metadata": {
        "colab": {
          "base_uri": "https://localhost:8080/",
          "height": 1000
        },
        "id": "3E2-6TbqJvh4",
        "outputId": "2c2014a7-db40-4f34-c402-3b92484027f6"
      },
      "outputs": [],
      "source": [
        "show(map)"
      ]
    },
    {
      "cell_type": "markdown",
      "metadata": {
        "id": "JhzM0Q0Va_Mr"
      },
      "source": [
        "Risks"
      ]
    },
    {
      "cell_type": "code",
      "execution_count": 84,
      "metadata": {
        "id": "IRUSuQh4MTVR"
      },
      "outputs": [],
      "source": [
        "#calPop = gpd.read_file(\"Cal_Cnty_RacePop.shp\")\n",
        "#calCounty = calCounty.assign(Pop = 0) #Add a new colunm with int type\n",
        "#for i in range(58):         #calPop colunm range\n",
        "#  for j in range(58):       #calCounty colunm range\n",
        "#    if calPop['NAME10'][i] == calCounty['NAME'][j]:\n",
        "#      calCounty['Pop'][j] = calPop['Total'][i]"
      ]
    },
    {
      "cell_type": "markdown",
      "metadata": {
        "id": "8quowD8ipuyi"
      },
      "source": [
        "The fire risk should related to the county area"
      ]
    },
    {
      "cell_type": "code",
      "execution_count": 186,
      "metadata": {
        "id": "dqiM0cvZeF_M"
      },
      "outputs": [],
      "source": [
        "calCounty['Risk'] = (calCounty['Count'] / round(calCounty['geometry'].area / 10**9, 2)) "
      ]
    },
    {
      "cell_type": "code",
      "execution_count": 187,
      "metadata": {
        "id": "gE4qzaEEfI-b"
      },
      "outputs": [],
      "source": [
        "source_risk = ColumnDataSource(data=dict(\n",
        "    \tx=lons, \n",
        "    \ty=lats,\n",
        "        county = calCounty['NAME'],\n",
        "        fireRisk = calCounty['Risk']))"
      ]
    },
    {
      "cell_type": "code",
      "execution_count": 188,
      "metadata": {
        "id": "8BgZO34CfJFS"
      },
      "outputs": [],
      "source": [
        "color_mapper_risk = linear_cmap(field_name = 'fireRisk', palette = Spectral11 ,\n",
        "                           low = min(calCounty['Risk']) ,\n",
        "                           high = max(calCounty['Risk']))\n",
        "TOOLS = \"pan,wheel_zoom,reset,hover,save\""
      ]
    },
    {
      "cell_type": "code",
      "execution_count": null,
      "metadata": {
        "colab": {
          "base_uri": "https://localhost:8080/",
          "height": 1000
        },
        "id": "jPz7m-zzelbd",
        "outputId": "eaa9ef3d-e718-48e3-8ef5-cce8aa786e88"
      },
      "outputs": [],
      "source": [
        "map_risk = figure(plot_width=1000, plot_height=1000,title=\"California Fire Risk Map\", tools=TOOLS,)\n",
        "map_risk.patches('x', 'y', source=source_risk, line_color=\"white\", line_width=0.1, color=color_mapper_risk)\n",
        "\n",
        "map_risk.select_one(HoverTool).tooltips = [\n",
        "    ('Fire Risk', '@fireRisk'),\n",
        "    ('County', '@county')\n",
        "]\n",
        "\n",
        "color_bar_risk = ColorBar(color_mapper=color_mapper_risk['transform'], width=16, location=(0,0))\n",
        "map_risk.add_layout(color_bar_risk, 'right')\n",
        "output_file(\"California Fire Risk Map.html\")\n",
        "show(map_risk)"
      ]
    }
  ],
  "metadata": {
    "colab": {
      "collapsed_sections": [],
      "name": "Final Proj.ipynb",
      "provenance": []
    },
    "kernelspec": {
      "display_name": "Python 3",
      "name": "python3"
    }
  },
  "nbformat": 4,
  "nbformat_minor": 0
}
